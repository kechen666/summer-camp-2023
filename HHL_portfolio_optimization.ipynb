{
 "cells": [
  {
   "cell_type": "markdown",
   "metadata": {},
   "source": [
    "# HHL for Portfolio Optimization With Constraint"
   ]
  },
  {
   "cell_type": "markdown",
   "metadata": {},
   "source": [
    "参考资料：\n",
    "- [Quantum computational finance: quantum algorithm for portfolio optimization](https://arxiv.org/abs/1811.03975)\n",
    "- [Solving linear systems of equations using HHL and its Qiskit implementation](https://learn.qiskit.org/course/ch-applications/solving-linear-systems-of-equations-using-hhl-and-its-qiskit-implementation)"
   ]
  },
  {
   "cell_type": "code",
   "execution_count": 1,
   "metadata": {},
   "outputs": [],
   "source": [
    "from qiskit.algorithms.minimum_eigensolvers import NumPyMinimumEigensolver, QAOA, SamplingVQE\n",
    "from qiskit.algorithms.optimizers import COBYLA\n",
    "from qiskit.circuit.library import TwoLocal\n",
    "from qiskit.result import QuasiDistribution\n",
    "from qiskit_aer.primitives import Sampler\n",
    "from qiskit_finance.applications.optimization import PortfolioOptimization\n",
    "from qiskit_finance.data_providers import RandomDataProvider\n",
    "from qiskit_optimization.algorithms import MinimumEigenOptimizer\n",
    "import numpy as np\n",
    "import matplotlib.pyplot as plt\n",
    "import datetime"
   ]
  },
  {
   "cell_type": "code",
   "execution_count": 24,
   "metadata": {},
   "outputs": [],
   "source": [
    "# set number of assets (= number of qubits)\n",
    "num_assets = 2\n",
    "seed = 123\n",
    "\n",
    "# Generate expected return and covariance matrix from (random) time-series\n",
    "stocks = [(\"TICKER%s\" % i) for i in range(num_assets)]\n",
    "data = RandomDataProvider(\n",
    "    tickers=stocks,\n",
    "    start=datetime.datetime(2021, 11, 17),\n",
    "    end=datetime.datetime(2021, 11, 27),\n",
    "    seed=seed,\n",
    ")\n",
    "data.run()\n",
    "\n",
    "R = data.get_period_return_mean_vector()\n",
    "Pi = np.ones(len(R))\n",
    "Sigma = data.get_period_return_covariance_matrix()\n"
   ]
  },
  {
   "cell_type": "markdown",
   "metadata": {},
   "source": [
    "求解问题： \n",
    "$$\n",
    "\\begin{pmatrix}\n",
    "0 & 0 & R^T \\\\\n",
    "0 & 0 & \\vec{1}^T\\\\\n",
    "R & \\vec{1} & \\Sigma\n",
    "\\end{pmatrix}\n",
    "\\begin{pmatrix}\n",
    "\\eta \\\\\n",
    "\\theta \\\\\n",
    "\\vec{w}\n",
    "\\end{pmatrix}\n",
    "=\n",
    "\\begin{pmatrix}\n",
    "E \\\\\n",
    "B \\\\\n",
    "\\vec{0}\n",
    "\\end{pmatrix}\n",
    "$$"
   ]
  },
  {
   "cell_type": "code",
   "execution_count": 52,
   "metadata": {},
   "outputs": [],
   "source": [
    "# mu = np.sum(np.abs(R))\n",
    "E = np.abs(R)[0]*2\n",
    "B = num_assets"
   ]
  },
  {
   "cell_type": "code",
   "execution_count": 53,
   "metadata": {},
   "outputs": [],
   "source": [
    "ZeroA = np.zeros((2,2))\n",
    "\n",
    "R_Pi=np.dstack((R, Pi))[0]\n",
    "\n",
    "RT_PiT=np.vstack((R, Pi))\n",
    "\n",
    "A = np.concatenate((np.vstack((ZeroA, R_Pi)), np.vstack((RT_PiT,Sigma))),axis=1)\n",
    "\n",
    "b = np.array([E,B]+[0]*num_assets)"
   ]
  },
  {
   "cell_type": "code",
   "execution_count": 27,
   "metadata": {},
   "outputs": [
    {
     "data": {
      "text/plain": [
       "array([[ 0.00000000e+00,  0.00000000e+00,  1.06228854e-01,\n",
       "         9.84161669e-04],\n",
       "       [ 0.00000000e+00,  0.00000000e+00,  1.00000000e+00,\n",
       "         1.00000000e+00],\n",
       "       [ 1.06228854e-01,  1.00000000e+00,  8.82430345e-02,\n",
       "        -6.93419959e-04],\n",
       "       [ 9.84161669e-04,  1.00000000e+00, -6.93419959e-04,\n",
       "         4.91610035e-04]])"
      ]
     },
     "execution_count": 27,
     "metadata": {},
     "output_type": "execute_result"
    }
   ],
   "source": [
    "A"
   ]
  },
  {
   "cell_type": "code",
   "execution_count": 8,
   "metadata": {},
   "outputs": [],
   "source": [
    "A_ = np.identity(4)\n",
    "\n",
    "b_ = np.array([2,2,2,1])"
   ]
  },
  {
   "cell_type": "markdown",
   "metadata": {},
   "source": [
    "## 求解问题"
   ]
  },
  {
   "cell_type": "code",
   "execution_count": 28,
   "metadata": {},
   "outputs": [],
   "source": [
    "\n",
    "import numpy as np\n",
    "from linear_solvers import NumPyLinearSolver, HHL\n",
    "matrix = A\n",
    "vector = b"
   ]
  },
  {
   "cell_type": "markdown",
   "metadata": {},
   "source": [
    "### 基于经典的线性方程组求解"
   ]
  },
  {
   "cell_type": "code",
   "execution_count": 29,
   "metadata": {},
   "outputs": [],
   "source": [
    "classical_solution = NumPyLinearSolver().solve(matrix,\n",
    "                                               vector/np.linalg.norm(vector))"
   ]
  },
  {
   "cell_type": "code",
   "execution_count": 30,
   "metadata": {},
   "outputs": [
    {
     "name": "stdout",
     "output_type": "stream",
     "text": [
      "classical state: [-1.69008912  0.00305016  2.         -0.        ]\n"
     ]
    }
   ],
   "source": [
    "print('classical state:', classical_solution.state*np.linalg.norm(vector))"
   ]
  },
  {
   "cell_type": "markdown",
   "metadata": {},
   "source": [
    "规划到原始值"
   ]
  },
  {
   "cell_type": "code",
   "execution_count": 31,
   "metadata": {},
   "outputs": [
    {
     "name": "stdout",
     "output_type": "stream",
     "text": [
      "投资策略:  [ 2. -0.]\n"
     ]
    }
   ],
   "source": [
    "x = classical_solution.state*np.linalg.norm(vector)\n",
    "print(\"投资策略: \",x[2:])"
   ]
  },
  {
   "cell_type": "markdown",
   "metadata": {},
   "source": [
    "### 基于HHL的求解方法"
   ]
  },
  {
   "cell_type": "code",
   "execution_count": 32,
   "metadata": {},
   "outputs": [],
   "source": [
    "naive_hhl_solution = HHL().solve(matrix, vector/np.linalg.norm(vector))"
   ]
  },
  {
   "cell_type": "code",
   "execution_count": 33,
   "metadata": {},
   "outputs": [
    {
     "name": "stdout",
     "output_type": "stream",
     "text": [
      "naive state:\n",
      "       ┌─────────────────┐┌──────┐        ┌─────────┐\n",
      "q68_0: ┤0                ├┤6     ├────────┤6        ├\n",
      "       │  circuit-522831 ││      │        │         │\n",
      "q68_1: ┤1                ├┤7     ├────────┤7        ├\n",
      "       └─────────────────┘│      │┌──────┐│         │\n",
      "q69_0: ───────────────────┤0     ├┤5     ├┤0        ├\n",
      "                          │      ││      ││         │\n",
      "q69_1: ───────────────────┤1     ├┤4     ├┤1        ├\n",
      "                          │  QPE ││      ││  QPE_dg │\n",
      "q69_2: ───────────────────┤2     ├┤3     ├┤2        ├\n",
      "                          │      ││      ││         │\n",
      "q69_3: ───────────────────┤3     ├┤2 1/x ├┤3        ├\n",
      "                          │      ││      ││         │\n",
      "q69_4: ───────────────────┤4     ├┤1     ├┤4        ├\n",
      "                          │      ││      ││         │\n",
      "q69_5: ───────────────────┤5     ├┤0     ├┤5        ├\n",
      "                          └──────┘│      │└─────────┘\n",
      "  q70: ───────────────────────────┤6     ├───────────\n",
      "                                  └──────┘           \n"
     ]
    }
   ],
   "source": [
    "print('naive state:')\n",
    "print(naive_hhl_solution.state)"
   ]
  },
  {
   "cell_type": "markdown",
   "metadata": {},
   "source": [
    "判断HHL与经典方法的求解值的二阶范数。"
   ]
  },
  {
   "cell_type": "code",
   "execution_count": 34,
   "metadata": {},
   "outputs": [
    {
     "name": "stdout",
     "output_type": "stream",
     "text": [
      "classical Euclidean norm: 1.3019122732597515\n",
      "naive Euclidean norm: 1.3006295438132165\n"
     ]
    }
   ],
   "source": [
    "print('classical Euclidean norm:', classical_solution.euclidean_norm)\n",
    "print('naive Euclidean norm:', naive_hhl_solution.euclidean_norm)"
   ]
  },
  {
   "cell_type": "markdown",
   "metadata": {},
   "source": [
    "获取HHL求解得到的最优解"
   ]
  },
  {
   "cell_type": "code",
   "execution_count": 35,
   "metadata": {},
   "outputs": [],
   "source": [
    "from qiskit.quantum_info import Statevector\n",
    "\n",
    "naive_sv = Statevector(naive_hhl_solution.state).data"
   ]
  },
  {
   "cell_type": "code",
   "execution_count": 41,
   "metadata": {},
   "outputs": [
    {
     "data": {
      "text/plain": [
       "512"
      ]
     },
     "execution_count": 41,
     "metadata": {},
     "output_type": "execute_result"
    }
   ],
   "source": [
    "len(naive_sv)"
   ]
  },
  {
   "cell_type": "code",
   "execution_count": 46,
   "metadata": {},
   "outputs": [
    {
     "name": "stdout",
     "output_type": "stream",
     "text": [
      "naive raw solution vector: [-0.0465746 -3.03808507e-15j  0.00025542+2.77724785e-16j\n",
      "  0.0546222 +3.91545041e-15j  0.00012395+5.26175425e-16j]\n"
     ]
    }
   ],
   "source": [
    "# if len(naive_sv)= 512 Extract vector components; 1 000 0000 00 00(bin) == 256 & 1 000 0000 00 01(bin) == 257 & 1 000 0000 00 10(bin) == 258 &1 000 0000 00 11(bin) == 259\n",
    "index = int(len(naive_sv)/2)\n",
    "naive_full_vector = np.array([naive_sv[index], naive_sv[index+1], naive_sv[index+2], naive_sv[index+3]])\n",
    "\n",
    "print('naive raw solution vector:', naive_full_vector)\n",
    "\n",
    "## if len(naive_sv) == 128\n",
    "# naive_full_vector = np.array([naive_sv[64], naive_sv[65], naive_sv[66], naive_sv[67]])\n",
    "\n",
    "# print('naive raw solution vector:', naive_full_vector)"
   ]
  },
  {
   "cell_type": "markdown",
   "metadata": {},
   "source": [
    "获取最终的结果"
   ]
  },
  {
   "cell_type": "code",
   "execution_count": 49,
   "metadata": {},
   "outputs": [
    {
     "name": "stdout",
     "output_type": "stream",
     "text": [
      "full naive solution vector: [-0.84387606  0.00462787  0.98968881  0.00224579]\n",
      "classical state: [-0.84031656  0.00151655  0.99440502 -0.        ]\n"
     ]
    }
   ],
   "source": [
    "def get_solution_vector(solution, index):\n",
    "    \"\"\"Extracts and normalizes simulated state vector\n",
    "    from LinearSolverResult.\"\"\"\n",
    "    solution_vector = Statevector(solution.state).data[index:index+4].real\n",
    "    norm = solution.euclidean_norm\n",
    "    return norm * solution_vector / np.linalg.norm(solution_vector)\n",
    "\n",
    "print('full naive solution vector:', get_solution_vector(naive_hhl_solution,index))\n",
    "print('classical state:', classical_solution.state)"
   ]
  },
  {
   "cell_type": "markdown",
   "metadata": {},
   "source": [
    "求解HHL得到在投资数据"
   ]
  },
  {
   "cell_type": "code",
   "execution_count": 51,
   "metadata": {},
   "outputs": [
    {
     "name": "stdout",
     "output_type": "stream",
     "text": [
      "HHL得到的投资数据:  [-1.69724818  0.00930781  1.99051451  0.00451685]\n"
     ]
    }
   ],
   "source": [
    "print(\"HHL得到的投资数据: \", get_solution_vector(naive_hhl_solution, index)*np.linalg.norm(vector))"
   ]
  }
 ],
 "metadata": {
  "kernelspec": {
   "display_name": "zju-summer-camp-qf-2023",
   "language": "python",
   "name": "python3"
  },
  "language_info": {
   "codemirror_mode": {
    "name": "ipython",
    "version": 3
   },
   "file_extension": ".py",
   "mimetype": "text/x-python",
   "name": "python",
   "nbconvert_exporter": "python",
   "pygments_lexer": "ipython3",
   "version": "3.10.12"
  },
  "orig_nbformat": 4
 },
 "nbformat": 4,
 "nbformat_minor": 2
}
