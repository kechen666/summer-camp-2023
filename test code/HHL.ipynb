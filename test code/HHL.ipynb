{
 "cells": [
  {
   "cell_type": "code",
   "execution_count": 2,
   "metadata": {},
   "outputs": [],
   "source": [
    "# pip install git+https://github.com/anedumla/quantum_linear_solvers\n",
    "\n",
    "import numpy as np\n",
    "from linear_solvers import NumPyLinearSolver, HHL\n",
    "matrix = np.array([ [1, -1/3], [-1/3, 1] ])\n",
    "vector = np.array([1, 0])\n",
    "naive_hhl_solution = HHL().solve(matrix, vector)"
   ]
  },
  {
   "cell_type": "code",
   "execution_count": 12,
   "metadata": {},
   "outputs": [
    {
     "data": {
      "text/plain": [
       "1.0"
      ]
     },
     "execution_count": 12,
     "metadata": {},
     "output_type": "execute_result"
    }
   ],
   "source": [
    "classical_solution = NumPyLinearSolver().solve(matrix, vector/np.linalg.norm(vector))"
   ]
  },
  {
   "cell_type": "code",
   "execution_count": 4,
   "metadata": {},
   "outputs": [],
   "source": [
    "from linear_solvers.matrices.tridiagonal_toeplitz import TridiagonalToeplitz\n",
    "tridi_matrix = TridiagonalToeplitz(1, 1, -1 / 3)\n",
    "tridi_solution = HHL().solve(tridi_matrix, vector)"
   ]
  },
  {
   "cell_type": "code",
   "execution_count": 5,
   "metadata": {},
   "outputs": [
    {
     "name": "stdout",
     "output_type": "stream",
     "text": [
      "classical state: [1.125 0.375]\n"
     ]
    }
   ],
   "source": [
    "print('classical state:', classical_solution.state)"
   ]
  },
  {
   "cell_type": "code",
   "execution_count": 6,
   "metadata": {},
   "outputs": [
    {
     "name": "stdout",
     "output_type": "stream",
     "text": [
      "naive state:\n",
      "      ┌─────────────┐┌──────┐        ┌─────────┐\n",
      "  q4: ┤ circuit-121 ├┤3     ├────────┤3        ├\n",
      "      └─────────────┘│      │┌──────┐│         │\n",
      "q5_0: ───────────────┤0     ├┤2     ├┤0        ├\n",
      "                     │  QPE ││      ││  QPE_dg │\n",
      "q5_1: ───────────────┤1     ├┤1     ├┤1        ├\n",
      "                     │      ││  1/x ││         │\n",
      "q5_2: ───────────────┤2     ├┤0     ├┤2        ├\n",
      "                     └──────┘│      │└─────────┘\n",
      "  q6: ───────────────────────┤3     ├───────────\n",
      "                             └──────┘           \n",
      "tridiagonal state:\n",
      "       ┌─────────────┐┌──────┐        ┌─────────┐\n",
      "  q26: ┤ circuit-334 ├┤3     ├────────┤3        ├\n",
      "       └─────────────┘│      │┌──────┐│         │\n",
      "q27_0: ───────────────┤0     ├┤2     ├┤0        ├\n",
      "                      │  QPE ││      ││  QPE_dg │\n",
      "q27_1: ───────────────┤1     ├┤1     ├┤1        ├\n",
      "                      │      ││  1/x ││         │\n",
      "q27_2: ───────────────┤2     ├┤0     ├┤2        ├\n",
      "                      └──────┘│      │└─────────┘\n",
      "  q28: ───────────────────────┤3     ├───────────\n",
      "                              └──────┘           \n"
     ]
    }
   ],
   "source": [
    "print('naive state:')\n",
    "print(naive_hhl_solution.state)\n",
    "print('tridiagonal state:')\n",
    "print(tridi_solution.state)"
   ]
  },
  {
   "cell_type": "code",
   "execution_count": 7,
   "metadata": {},
   "outputs": [
    {
     "name": "stdout",
     "output_type": "stream",
     "text": [
      "classical Euclidean norm: 1.1858541225631423\n",
      "naive Euclidean norm: 1.1858541225631403\n",
      "tridiagonal Euclidean norm: 1.185854122563139\n"
     ]
    }
   ],
   "source": [
    "print('classical Euclidean norm:', classical_solution.euclidean_norm)\n",
    "print('naive Euclidean norm:', naive_hhl_solution.euclidean_norm)\n",
    "print('tridiagonal Euclidean norm:', tridi_solution.euclidean_norm)"
   ]
  },
  {
   "cell_type": "code",
   "execution_count": 8,
   "metadata": {},
   "outputs": [
    {
     "name": "stdout",
     "output_type": "stream",
     "text": [
      "naive raw solution vector: [0.75+3.06378528e-16j 0.25+4.51437106e-17j]\n",
      "tridi raw solution vector: [0.75-8.43311379e-17j 0.25+3.90683163e-16j]\n"
     ]
    }
   ],
   "source": [
    "from qiskit.quantum_info import Statevector\n",
    "\n",
    "naive_sv = Statevector(naive_hhl_solution.state).data\n",
    "tridi_sv = Statevector(tridi_solution.state).data\n",
    "\n",
    "# Extract vector components; 10000(bin) == 16 & 10001(bin) == 17\n",
    "naive_full_vector = np.array([naive_sv[16], naive_sv[17] ])\n",
    "tridi_full_vector = np.array([tridi_sv[16], tridi_sv[17] ])\n",
    "\n",
    "print('naive raw solution vector:', naive_full_vector)\n",
    "print('tridi raw solution vector:', tridi_full_vector)"
   ]
  },
  {
   "cell_type": "code",
   "execution_count": 18,
   "metadata": {},
   "outputs": [
    {
     "data": {
      "text/plain": [
       "32"
      ]
     },
     "execution_count": 18,
     "metadata": {},
     "output_type": "execute_result"
    }
   ],
   "source": [
    "len(naive_sv)"
   ]
  },
  {
   "cell_type": "code",
   "execution_count": 11,
   "metadata": {},
   "outputs": [
    {
     "name": "stdout",
     "output_type": "stream",
     "text": [
      "1.1858541225631403\n",
      "full naive solution vector: [1.125 0.375]\n",
      "1.185854122563139\n",
      "full tridi solution vector: [1.125 0.375]\n",
      "classical state: [1.125 0.375]\n"
     ]
    }
   ],
   "source": [
    "def get_solution_vector(solution):\n",
    "    \"\"\"Extracts and normalizes simulated state vector\n",
    "    from LinearSolverResult.\"\"\"\n",
    "    solution_vector = Statevector(solution.state).data[16:18].real\n",
    "    norm = solution.euclidean_norm\n",
    "    ## 归一化向量乘以上面计算的相应欧几里德范数来恢复完整的解向量\n",
    "    return norm * solution_vector / np.linalg.norm(solution_vector)\n",
    "\n",
    "print('full naive solution vector:', get_solution_vector(naive_hhl_solution))\n",
    "print('full tridi solution vector:', get_solution_vector(tridi_solution))\n",
    "print('classical state:', classical_solution.state)"
   ]
  },
  {
   "cell_type": "markdown",
   "metadata": {},
   "source": [
    "## 大矩阵"
   ]
  },
  {
   "cell_type": "code",
   "execution_count": 13,
   "metadata": {},
   "outputs": [
    {
     "name": "stdout",
     "output_type": "stream",
     "text": [
      "classical euclidean norm: 1.237833351044751\n",
      "naive euclidean norm: 1.2099806231119146\n",
      "tridiagonal euclidean norm: 1.209457721870593\n"
     ]
    }
   ],
   "source": [
    "from scipy.sparse import diags\n",
    "\n",
    "NUM_QUBITS = 2\n",
    "MATRIX_SIZE = 2 ** NUM_QUBITS\n",
    "# entries of the tridiagonal Toeplitz symmetric matrix\n",
    "a = 1\n",
    "b = -1/3\n",
    "\n",
    "matrix = diags([b, a, b],\n",
    "               [-1, 0, 1],\n",
    "               shape=(MATRIX_SIZE, MATRIX_SIZE)).toarray()\n",
    "\n",
    "vector = np.array([1] + [0]*(MATRIX_SIZE - 1))\n",
    "# run the algorithms\n",
    "classical_solution = NumPyLinearSolver(\n",
    "                        ).solve(matrix, vector / np.linalg.norm(vector))\n",
    "naive_hhl_solution = HHL().solve(matrix, vector)\n",
    "tridi_matrix = TridiagonalToeplitz(NUM_QUBITS, a, b)\n",
    "tridi_solution = HHL().solve(tridi_matrix, vector)\n",
    "\n",
    "print('classical euclidean norm:', classical_solution.euclidean_norm)\n",
    "print('naive euclidean norm:', naive_hhl_solution.euclidean_norm)\n",
    "print('tridiagonal euclidean norm:', tridi_solution.euclidean_norm)"
   ]
  },
  {
   "cell_type": "markdown",
   "metadata": {},
   "source": [
    "我们还可以从精确的方法和高效的实现上来比较资源的差异。"
   ]
  },
  {
   "cell_type": "code",
   "execution_count": 15,
   "metadata": {},
   "outputs": [],
   "source": [
    "# from qiskit import transpile\n",
    "\n",
    "# MAX_QUBITS = 4\n",
    "# a = 1\n",
    "# b = -1/3\n",
    "\n",
    "# i = 1\n",
    "# # calculate the circuit depths for different number of qubits to compare the use\n",
    "# # of resources (WARNING: This will take a while to execute)\n",
    "# naive_depths = []\n",
    "# tridi_depths = []\n",
    "# for n_qubits in range(1, MAX_QUBITS+1):\n",
    "#     matrix = diags([b, a, b],\n",
    "#                    [-1, 0, 1],\n",
    "#                    shape=(2**n_qubits, 2**n_qubits)).toarray()\n",
    "#     vector = np.array([1] + [0]*(2**n_qubits -1))\n",
    "\n",
    "#     naive_hhl_solution = HHL().solve(matrix, vector)\n",
    "#     tridi_matrix = TridiagonalToeplitz(n_qubits, a, b)\n",
    "#     tridi_solution = HHL().solve(tridi_matrix, vector)\n",
    "\n",
    "#     naive_qc = transpile(naive_hhl_solution.state,\n",
    "#                          basis_gates=['id', 'rz', 'sx', 'x', 'cx'])\n",
    "#     tridi_qc = transpile(tridi_solution.state,\n",
    "#                          basis_gates=['id', 'rz', 'sx', 'x', 'cx'])\n",
    "\n",
    "#     naive_depths.append(naive_qc.depth())\n",
    "#     tridi_depths.append(tridi_qc.depth())\n",
    "#     i +=1"
   ]
  },
  {
   "cell_type": "code",
   "execution_count": 16,
   "metadata": {},
   "outputs": [],
   "source": [
    "# sizes = [f\"{2**n_qubits}×{2**n_qubits}\"\n",
    "#          for n_qubits in range(1, MAX_QUBITS+1)]\n",
    "# columns = ['size of the system',\n",
    "#            'quantum_solution depth',\n",
    "#            'tridi_solution depth']\n",
    "# data = np.array([sizes, naive_depths, tridi_depths])\n",
    "# ROW_FORMAT =\"{:>23}\" * (len(columns) + 2)\n",
    "# for team, row in zip(columns, data):\n",
    "#     print(ROW_FORMAT.format(team, *row))"
   ]
  },
  {
   "cell_type": "markdown",
   "metadata": {},
   "source": [
    "该实现似乎仍然需要指数资源的原因是因为当前的条件旋转实现（第 2.B 节中的步骤 3）是精确的。"
   ]
  },
  {
   "cell_type": "code",
   "execution_count": 17,
   "metadata": {},
   "outputs": [],
   "source": [
    "# print('excess:',\n",
    "#       [naive_depths[i] - tridi_depths[i] for i in range(0, len(naive_depths))])"
   ]
  },
  {
   "cell_type": "markdown",
   "metadata": {},
   "source": [
    "在不久的将来，计划将进行整合qiskit.circuit.library.arithmetics.PiecewiseChebyshev以获得条件旋转的多项式实现。"
   ]
  }
 ],
 "metadata": {
  "kernelspec": {
   "display_name": "zju-summer-camp-qf-2023",
   "language": "python",
   "name": "python3"
  },
  "language_info": {
   "codemirror_mode": {
    "name": "ipython",
    "version": 3
   },
   "file_extension": ".py",
   "mimetype": "text/x-python",
   "name": "python",
   "nbconvert_exporter": "python",
   "pygments_lexer": "ipython3",
   "version": "3.10.12"
  },
  "orig_nbformat": 4
 },
 "nbformat": 4,
 "nbformat_minor": 2
}
