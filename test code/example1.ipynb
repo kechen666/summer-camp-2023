{
 "cells": [
  {
   "cell_type": "code",
   "execution_count": 10,
   "metadata": {},
   "outputs": [],
   "source": [
    "from qiskit.algorithms.minimum_eigensolvers import QAOA                             \n",
    "from qiskit.algorithms.optimizers import COBYLA, GradientDescent\n",
    "from qiskit_aer.primitives import Sampler\n",
    "from qiskit_finance.applications.optimization import PortfolioOptimization\n",
    "from qiskit_finance.data_providers import RandomDataProvider\n",
    "from qiskit_optimization.algorithms import MinimumEigenOptimizer\n",
    "import datetime"
   ]
  },
  {
   "attachments": {},
   "cell_type": "markdown",
   "metadata": {},
   "source": [
    "$$\n",
    "\\begin{aligned}\n",
    "\\min_{x \\in \\{0, 1\\}^n}\\quad& q x^T \\Sigma x - \\mu^T x\\\\\n",
    "\\text{s.t.}\\quad& 1^T x = B\n",
    "\\end{aligned}\n",
    "$$\n",
    "\n",
    "定义基本的参数，构造数据。"
   ]
  },
  {
   "cell_type": "code",
   "execution_count": 2,
   "metadata": {},
   "outputs": [],
   "source": [
    "num_assets = 4\n",
    "data = RandomDataProvider(\n",
    "    tickers=[f\"TICKERS{i}\" for i in range(num_assets)],\n",
    "    start=datetime.datetime(2021, 11, 17),\n",
    "    end=datetime.datetime(2022, 11, 17),\n",
    ")\n",
    "data.run()\n",
    "mu = data.get_period_return_mean_vector()\n",
    "sigma = data.get_period_return_covariance_matrix()\n",
    "q = 0.5\n",
    "B = num_assets // 2"
   ]
  },
  {
   "attachments": {},
   "cell_type": "markdown",
   "metadata": {},
   "source": [
    "定义投资组合优化问题。"
   ]
  },
  {
   "cell_type": "code",
   "execution_count": 3,
   "metadata": {},
   "outputs": [],
   "source": [
    "problem = PortfolioOptimization(mu, sigma, q, B)"
   ]
  },
  {
   "attachments": {},
   "cell_type": "markdown",
   "metadata": {},
   "source": [
    "将原问题转化为一个二次规划问题。"
   ]
  },
  {
   "cell_type": "code",
   "execution_count": 4,
   "metadata": {},
   "outputs": [
    {
     "name": "stdout",
     "output_type": "stream",
     "text": [
      "minimize 8.085708164407747e-05*x_0^2 - 1.7716036931802456e-05*x_0*x_1 + 1.799081577323901e-05*x_0*x_2 - 4.4718940017546775e-05*x_0*x_3 + 0.027826327522665822*x_1^2 + 0.0005656342072605836*x_1*x_2 + 0.0004270364614573808*x_1*x_3 + 0.0003801641412271594*x_2^2 - 0.00015515012991674287*x_2*x_3 + 0.02534512718521647*x_3^2 - 0.0005512569075137799*x_0 - 0.024404347420446462*x_1 - 0.001435091910419631*x_2 - 0.009455386343100539*x_3 (4 variables, 1 constraints, 'Portfolio optimization')\n"
     ]
    }
   ],
   "source": [
    "quadratic_program = problem.to_quadratic_program()\n",
    "print(quadratic_program)"
   ]
  },
  {
   "cell_type": "code",
   "execution_count": 5,
   "metadata": {},
   "outputs": [
    {
     "data": {
      "text/plain": [
       "<qiskit_finance.applications.optimization.portfolio_optimization.PortfolioOptimization at 0x189fcb9b640>"
      ]
     },
     "execution_count": 5,
     "metadata": {},
     "output_type": "execute_result"
    }
   ],
   "source": [
    "problem"
   ]
  },
  {
   "cell_type": "code",
   "execution_count": 19,
   "metadata": {},
   "outputs": [
    {
     "data": {
      "text/plain": [
       "[<Variable: x_0 (binary)>,\n",
       " <Variable: x_1 (binary)>,\n",
       " <Variable: x_2 (binary)>,\n",
       " <Variable: x_3 (binary)>]"
      ]
     },
     "execution_count": 19,
     "metadata": {},
     "output_type": "execute_result"
    }
   ],
   "source": [
    "quadratic_program.variables\n"
   ]
  },
  {
   "attachments": {},
   "cell_type": "markdown",
   "metadata": {},
   "source": [
    "利用QAOA求解，得到投资方案。"
   ]
  },
  {
   "cell_type": "code",
   "execution_count": 7,
   "metadata": {},
   "outputs": [
    {
     "name": "stdout",
     "output_type": "stream",
     "text": [
      "fval=-0.001507336779288935, x_0=1.0, x_1=0.0, x_2=1.0, x_3=0.0, status=SUCCESS\n"
     ]
    }
   ],
   "source": [
    "result = MinimumEigenOptimizer(QAOA(Sampler(), COBYLA(),reps=3)).solve(\n",
    "    quadratic_program\n",
    ")\n",
    "print(result)"
   ]
  },
  {
   "cell_type": "markdown",
   "metadata": {},
   "source": [
    "使用梯度优化器"
   ]
  },
  {
   "cell_type": "code",
   "execution_count": 11,
   "metadata": {},
   "outputs": [
    {
     "name": "stdout",
     "output_type": "stream",
     "text": [
      "fval=-0.001507336779288935, x_0=1.0, x_1=0.0, x_2=1.0, x_3=0.0, status=SUCCESS\n"
     ]
    }
   ],
   "source": [
    "result = MinimumEigenOptimizer(QAOA(Sampler(), GradientDescent(),reps=3)).solve(\n",
    "    quadratic_program\n",
    ")\n",
    "print(result)"
   ]
  },
  {
   "attachments": {},
   "cell_type": "markdown",
   "metadata": {},
   "source": [
    "输出全部的可能方案，得到满足约束方案的概率大。"
   ]
  },
  {
   "cell_type": "code",
   "execution_count": 8,
   "metadata": {},
   "outputs": [
    {
     "name": "stdout",
     "output_type": "stream",
     "text": [
      "投资方案\t\t概率\t目标函数值\n",
      "[0, 1, 1, 0]\t0.1826\t0.002933\n",
      "[1, 0, 0, 1]\t0.1738\t0.015375\n",
      "[1, 1, 0, 0]\t0.1611\t0.002934\n",
      "[0, 0, 1, 1]\t0.1602\t0.014680\n",
      "[1, 0, 1, 0]\t0.1523\t-0.001507\n",
      "[0, 1, 0, 1]\t0.1475\t0.019739\n",
      "[1, 0, 0, 0]\t0.0059\t-0.000470\n",
      "[0, 0, 1, 0]\t0.0029\t-0.001055\n",
      "[1, 1, 1, 1]\t0.0029\t0.018579\n",
      "[0, 0, 0, 0]\t0.0020\t0.000000\n",
      "[1, 1, 1, 0]\t0.0020\t0.002463\n",
      "[1, 1, 0, 1]\t0.0020\t0.019206\n",
      "[0, 0, 0, 1]\t0.0020\t0.015890\n",
      "[1, 0, 1, 1]\t0.0010\t0.014183\n",
      "[0, 1, 0, 0]\t0.0010\t0.003422\n",
      "[0, 1, 1, 1]\t0.0010\t0.019094\n"
     ]
    }
   ],
   "source": [
    "print(\"投资方案\\t\\t概率\\t目标函数值\")\n",
    "for (\n",
    "    k,\n",
    "    v,\n",
    ") in sorted(\n",
    "    result.min_eigen_solver_result.eigenstate.binary_probabilities().items(),\n",
    "    key=lambda x: x[1],\n",
    "    reverse=True,\n",
    "):\n",
    "    x = [int(i) for i in list(reversed(k))]\n",
    "    print(\n",
    "        f\"{x}\\t{v:.4f}\\t{problem.to_quadratic_program().objective.evaluate(x):.6f}\"\n",
    "    )"
   ]
  },
  {
   "cell_type": "code",
   "execution_count": 33,
   "metadata": {},
   "outputs": [
    {
     "name": "stdout",
     "output_type": "stream",
     "text": [
      "fval=-0.001507336779288935, x_0=1.0, x_1=0.0, x_2=1.0, x_3=0.0, status=SUCCESS\n"
     ]
    }
   ],
   "source": [
    "unconstraint_quadratic_problem = problem.to_quadratic_program()\n",
    "unconstraint_quadratic_problem.remove_linear_constraint(0)\n",
    "\n",
    "result = MinimumEigenOptimizer(QAOA(Sampler(), COBYLA(),reps=3)).solve(\n",
    "    quadratic_program\n",
    ")\n",
    "print(result)"
   ]
  },
  {
   "cell_type": "markdown",
   "metadata": {},
   "source": [
    "## Continuous Var"
   ]
  },
  {
   "cell_type": "code",
   "execution_count": 49,
   "metadata": {},
   "outputs": [],
   "source": [
    "continuous_var_quadratic_problem = problem.to_quadratic_program()"
   ]
  },
  {
   "cell_type": "code",
   "execution_count": 51,
   "metadata": {},
   "outputs": [],
   "source": [
    "continuous_var_quadratic_problem._variables.clear()\n",
    "continuous_var_quadratic_problem._variables_index.clear()\n",
    "for i in range(4):\n",
    "    name = \"x\"+str(i)\n",
    "    continuous_var_quadratic_problem.continuous_var(0,B,name=name)"
   ]
  },
  {
   "cell_type": "code",
   "execution_count": 52,
   "metadata": {},
   "outputs": [
    {
     "data": {
      "text/plain": [
       "<QuadraticProgram: minimize 8.085708164407747e-05*x0^2 - 1.7716036931802456e-0..., 4 variables, 1 constraints, 'Portfolio optimization'>"
      ]
     },
     "execution_count": 52,
     "metadata": {},
     "output_type": "execute_result"
    }
   ],
   "source": [
    "continuous_var_quadratic_problem"
   ]
  },
  {
   "cell_type": "code",
   "execution_count": 53,
   "metadata": {},
   "outputs": [
    {
     "data": {
      "text/plain": [
       "[<Variable: 0 <= x0 <= 2 (continuous)>,\n",
       " <Variable: 0 <= x1 <= 2 (continuous)>,\n",
       " <Variable: 0 <= x2 <= 2 (continuous)>,\n",
       " <Variable: 0 <= x3 <= 2 (continuous)>]"
      ]
     },
     "execution_count": 53,
     "metadata": {},
     "output_type": "execute_result"
    }
   ],
   "source": [
    "continuous_var_quadratic_problem.variables"
   ]
  }
 ],
 "metadata": {
  "kernelspec": {
   "display_name": "summer-camp-qf-2023",
   "language": "python",
   "name": "python3"
  },
  "language_info": {
   "codemirror_mode": {
    "name": "ipython",
    "version": 3
   },
   "file_extension": ".py",
   "mimetype": "text/x-python",
   "name": "python",
   "nbconvert_exporter": "python",
   "pygments_lexer": "ipython3",
   "version": "3.10.12"
  },
  "orig_nbformat": 4
 },
 "nbformat": 4,
 "nbformat_minor": 2
}
